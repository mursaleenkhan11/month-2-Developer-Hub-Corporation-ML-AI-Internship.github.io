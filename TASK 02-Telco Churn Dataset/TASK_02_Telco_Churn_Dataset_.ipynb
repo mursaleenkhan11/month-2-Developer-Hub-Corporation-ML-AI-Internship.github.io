{
  "nbformat": 4,
  "nbformat_minor": 0,
  "metadata": {
    "colab": {
      "provenance": []
    },
    "kernelspec": {
      "name": "python3",
      "display_name": "Python 3"
    },
    "language_info": {
      "name": "python"
    }
  },
  "cells": [
    {
      "cell_type": "markdown",
      "source": [
        "# 🧩 Problem Statement & Objective\n",
        "\n",
        "> The goal of this project is to predict customer churn — whether a telecom customer will discontinue their service — based on demographic and service usage data.\n",
        "\n",
        "## Objective:\n",
        "\n",
        "> Analyze customer behavior to determine the likelihood of churn.\n",
        "\n",
        "> Build accurate machine learning models to predict churn and guide retention strategies.\n",
        "\n",
        "> Compare performance between Logistic Regression and Random Forest classifiers."
      ],
      "metadata": {
        "id": "g1Ypdo-alQxH"
      }
    },
    {
      "cell_type": "markdown",
      "source": [
        "# 📊 Dataset Loading & Preprocessing\n",
        "\n",
        "> The dataset used is the Telco Customer Churn dataset from Kaggle.\n",
        "It contains information such as customer demographics, account details, and service subscriptions.\n",
        "\n",
        "## Key Steps:\n",
        "\n",
        "- Loaded dataset from Kaggle using kagglehub.\n",
        "\n",
        "- Cleaned and preprocessed data.\n",
        "\n",
        "- Split into training and testing sets.\n",
        "\n",
        "- Applied scaling, imputation, and one-hot encoding using pipelines."
      ],
      "metadata": {
        "id": "NISoFD8nmDqK"
      }
    },
    {
      "cell_type": "code",
      "source": [
        "# Import Libraries\n",
        "import numpy as np\n",
        "import pandas as pd\n",
        "import matplotlib.pyplot as plt\n",
        "import seaborn as sns\n",
        "\n",
        "from sklearn.preprocessing import StandardScaler, OneHotEncoder\n",
        "from sklearn.compose import ColumnTransformer\n",
        "from sklearn.impute import SimpleImputer\n",
        "from sklearn.pipeline import Pipeline\n",
        "from sklearn.model_selection import train_test_split, GridSearchCV\n",
        "from sklearn.linear_model import LogisticRegression\n",
        "from sklearn.ensemble import RandomForestClassifier\n",
        "from sklearn.metrics import accuracy_score, confusion_matrix, classification_report\n",
        "\n",
        "# Load dataset from Kaggle\n",
        "import kagglehub\n",
        "from kagglehub import KaggleDatasetAdapter\n",
        "\n",
        "df = kagglehub.load_dataset(\n",
        "    KaggleDatasetAdapter.PANDAS,\n",
        "    \"blastchar/telco-customer-churn\",\n",
        "    \"WA_Fn-UseC_-Telco-Customer-Churn.csv\"\n",
        ")\n",
        "\n",
        "# Display dataset info\n",
        "df.head()\n",
        "df.info()\n",
        "\n",
        "# Handle missing values\n",
        "df['TotalCharges'] = pd.to_numeric(df['TotalCharges'], errors='coerce')\n",
        "df['TotalCharges'].fillna(df['TotalCharges'].mean(), inplace=True)\n",
        "\n",
        "# Define target and features\n",
        "X = df.drop('Churn', axis=1)\n",
        "y = df['Churn'].map({'Yes': 1, 'No': 0})\n",
        "\n",
        "# Split data\n",
        "X_train, X_test, y_train, y_test = train_test_split(X, y, test_size=0.2, random_state=42)\n"
      ],
      "metadata": {
        "colab": {
          "base_uri": "https://localhost:8080/"
        },
        "id": "anKWRmrzlQj2",
        "outputId": "99d49bc1-eaf9-4e86-8cc8-5d6b3227ee84"
      },
      "execution_count": 1,
      "outputs": [
        {
          "output_type": "stream",
          "name": "stderr",
          "text": [
            "/tmp/ipython-input-3476842136.py:20: DeprecationWarning: Use dataset_load() instead of load_dataset(). load_dataset() will be removed in a future version.\n",
            "  df = kagglehub.load_dataset(\n"
          ]
        },
        {
          "output_type": "stream",
          "name": "stdout",
          "text": [
            "Using Colab cache for faster access to the 'telco-customer-churn' dataset.\n",
            "<class 'pandas.core.frame.DataFrame'>\n",
            "RangeIndex: 7043 entries, 0 to 7042\n",
            "Data columns (total 21 columns):\n",
            " #   Column            Non-Null Count  Dtype  \n",
            "---  ------            --------------  -----  \n",
            " 0   customerID        7043 non-null   object \n",
            " 1   gender            7043 non-null   object \n",
            " 2   SeniorCitizen     7043 non-null   int64  \n",
            " 3   Partner           7043 non-null   object \n",
            " 4   Dependents        7043 non-null   object \n",
            " 5   tenure            7043 non-null   int64  \n",
            " 6   PhoneService      7043 non-null   object \n",
            " 7   MultipleLines     7043 non-null   object \n",
            " 8   InternetService   7043 non-null   object \n",
            " 9   OnlineSecurity    7043 non-null   object \n",
            " 10  OnlineBackup      7043 non-null   object \n",
            " 11  DeviceProtection  7043 non-null   object \n",
            " 12  TechSupport       7043 non-null   object \n",
            " 13  StreamingTV       7043 non-null   object \n",
            " 14  StreamingMovies   7043 non-null   object \n",
            " 15  Contract          7043 non-null   object \n",
            " 16  PaperlessBilling  7043 non-null   object \n",
            " 17  PaymentMethod     7043 non-null   object \n",
            " 18  MonthlyCharges    7043 non-null   float64\n",
            " 19  TotalCharges      7043 non-null   object \n",
            " 20  Churn             7043 non-null   object \n",
            "dtypes: float64(1), int64(2), object(18)\n",
            "memory usage: 1.1+ MB\n"
          ]
        },
        {
          "output_type": "stream",
          "name": "stderr",
          "text": [
            "/tmp/ipython-input-3476842136.py:32: FutureWarning: A value is trying to be set on a copy of a DataFrame or Series through chained assignment using an inplace method.\n",
            "The behavior will change in pandas 3.0. This inplace method will never work because the intermediate object on which we are setting values always behaves as a copy.\n",
            "\n",
            "For example, when doing 'df[col].method(value, inplace=True)', try using 'df.method({col: value}, inplace=True)' or df[col] = df[col].method(value) instead, to perform the operation inplace on the original object.\n",
            "\n",
            "\n",
            "  df['TotalCharges'].fillna(df['TotalCharges'].mean(), inplace=True)\n"
          ]
        }
      ]
    },
    {
      "cell_type": "markdown",
      "source": [
        "# 🧠 Model Development & Training\n",
        "\n",
        "> Two machine learning models were developed:\n",
        "\n",
        "- Logistic Regression — interpretable and efficient baseline model.\n",
        "\n",
        "- Random Forest Classifier — robust ensemble model for complex relationships.\n",
        "\n",
        "> Each model was implemented inside a pipeline that included:\n",
        "\n",
        "- Numerical data imputation and scaling.\n",
        "\n",
        "- Categorical data imputation and encoding."
      ],
      "metadata": {
        "id": "XxVnqpkLlQS_"
      }
    },
    {
      "cell_type": "code",
      "source": [
        "# Identify data types\n",
        "int_cols = X.select_dtypes(include=['int64','float64']).columns.tolist()\n",
        "cat_cols = X.select_dtypes(include=['object']).columns.tolist()\n",
        "\n",
        "# Numerical pipeline\n",
        "numerical_transformer = Pipeline(steps=[\n",
        "    ('imputer', SimpleImputer()),\n",
        "    ('scaler', StandardScaler())\n",
        "])\n",
        "\n",
        "# Categorical pipeline\n",
        "categorical_transformer = Pipeline(steps=[\n",
        "    ('imputer', SimpleImputer(strategy='most_frequent')),\n",
        "    ('onehot', OneHotEncoder(handle_unknown='ignore'))\n",
        "])\n",
        "\n",
        "# Combine transformations\n",
        "preprocessor = ColumnTransformer(\n",
        "    transformers=[\n",
        "        ('num', numerical_transformer, int_cols),\n",
        "        ('cat', categorical_transformer, cat_cols)\n",
        "    ]\n",
        ")\n",
        "\n",
        "# Define model pipelines\n",
        "lr_pipe = Pipeline(steps=[\n",
        "    ('preprocessor', preprocessor),\n",
        "    ('lr', LogisticRegression())\n",
        "])\n",
        "\n",
        "rf_pipe = Pipeline(steps=[\n",
        "    ('preprocessor', preprocessor),\n",
        "    ('rf', RandomForestClassifier())\n",
        "])\n",
        "\n",
        "# Train models\n",
        "lr_pipe.fit(X_train, y_train)\n",
        "rf_pipe.fit(X_train, y_train)\n"
      ],
      "metadata": {
        "id": "vIQpVDOYlQHC"
      },
      "execution_count": null,
      "outputs": []
    },
    {
      "cell_type": "markdown",
      "source": [
        "# 📏 Evaluation with Relevant Metrics\n",
        "\n",
        "> Model performance was evaluated using:\n",
        "\n",
        "> Accuracy on training and testing data.\n",
        "\n",
        "## Confusion Matrix\n",
        "\n",
        "- Classification Report (Precision, Recall, F1-score)\n",
        "\n",
        "- Hyperparameter Tuning via GridSearchCV."
      ],
      "metadata": {
        "id": "K-Pv6tfZlPmY"
      }
    },
    {
      "cell_type": "code",
      "source": [
        "# Evaluate Logistic Regression\n",
        "lr_train_acc = lr_pipe.score(X_train, y_train)\n",
        "lr_test_acc  = lr_pipe.score(X_test, y_test)\n",
        "print(f\"Logistic Regression - Train Accuracy: {lr_train_acc:.4f}\")\n",
        "print(f\"Logistic Regression - Test Accuracy: {lr_test_acc:.4f}\")\n",
        "\n",
        "# Evaluate Random Forest\n",
        "rf_train_acc = rf_pipe.score(X_train, y_train)\n",
        "rf_test_acc  = rf_pipe.score(X_test, y_test)\n",
        "print(f\"Random Forest - Train Accuracy: {rf_train_acc:.4f}\")\n",
        "print(f\"Random Forest - Test Accuracy: {rf_test_acc:.4f}\")\n",
        "\n",
        "# Predictions\n",
        "y_pred_lr = lr_pipe.predict(X_test)\n",
        "y_pred_rf = rf_pipe.predict(X_test)\n",
        "\n",
        "# Classification Reports\n",
        "print(\"\\nLogistic Regression Report:\\n\", classification_report(y_test, y_pred_lr))\n",
        "print(\"\\nRandom Forest Report:\\n\", classification_report(y_test, y_pred_rf))\n",
        "\n",
        "# Hyperparameter tuning\n",
        "lr_param = {'lr__C': [0.001, 0.01, 0.1, 1, 10, 100]}\n",
        "rf_param = {\n",
        "    'rf__n_estimators': [50, 100, 200],\n",
        "    'rf__max_depth': [None, 10, 20, 30],\n",
        "}\n",
        "\n",
        "lr_grid = GridSearchCV(lr_pipe, lr_param, cv=5)\n",
        "rf_grid = GridSearchCV(rf_pipe, rf_param, cv=5)\n",
        "\n",
        "lr_grid.fit(X_train, y_train)\n",
        "rf_grid.fit(X_train, y_train)\n",
        "\n",
        "print(\"Best LR Params:\", lr_grid.best_params_)\n",
        "print(\"Best RF Params:\", rf_grid.best_params_)\n"
      ],
      "metadata": {
        "colab": {
          "base_uri": "https://localhost:8080/"
        },
        "id": "eH_WZJSSlPSV",
        "outputId": "512aac7b-2764-49ca-8bb7-2956145d870f"
      },
      "execution_count": 3,
      "outputs": [
        {
          "output_type": "stream",
          "name": "stdout",
          "text": [
            "Logistic Regression - Train Accuracy: 0.8830\n",
            "Logistic Regression - Test Accuracy: 0.8219\n",
            "Random Forest - Train Accuracy: 0.9998\n",
            "Random Forest - Test Accuracy: 0.7977\n",
            "\n",
            "Logistic Regression Report:\n",
            "               precision    recall  f1-score   support\n",
            "\n",
            "           0       0.86      0.90      0.88      1036\n",
            "           1       0.69      0.60      0.64       373\n",
            "\n",
            "    accuracy                           0.82      1409\n",
            "   macro avg       0.77      0.75      0.76      1409\n",
            "weighted avg       0.82      0.82      0.82      1409\n",
            "\n",
            "\n",
            "Random Forest Report:\n",
            "               precision    recall  f1-score   support\n",
            "\n",
            "           0       0.82      0.92      0.87      1036\n",
            "           1       0.68      0.45      0.54       373\n",
            "\n",
            "    accuracy                           0.80      1409\n",
            "   macro avg       0.75      0.68      0.70      1409\n",
            "weighted avg       0.78      0.80      0.78      1409\n",
            "\n"
          ]
        },
        {
          "output_type": "stream",
          "name": "stderr",
          "text": [
            "/usr/local/lib/python3.12/dist-packages/sklearn/linear_model/_logistic.py:465: ConvergenceWarning: lbfgs failed to converge (status=1):\n",
            "STOP: TOTAL NO. OF ITERATIONS REACHED LIMIT.\n",
            "\n",
            "Increase the number of iterations (max_iter) or scale the data as shown in:\n",
            "    https://scikit-learn.org/stable/modules/preprocessing.html\n",
            "Please also refer to the documentation for alternative solver options:\n",
            "    https://scikit-learn.org/stable/modules/linear_model.html#logistic-regression\n",
            "  n_iter_i = _check_optimize_result(\n"
          ]
        },
        {
          "output_type": "stream",
          "name": "stdout",
          "text": [
            "Best LR Params: {'lr__C': 1}\n",
            "Best RF Params: {'rf__max_depth': 30, 'rf__n_estimators': 50}\n"
          ]
        }
      ]
    },
    {
      "cell_type": "markdown",
      "source": [
        "# 📈 Visualizations (if applicable)\n",
        "\n",
        "> Visualizations help interpret model performance and data distribution.\n",
        "> This section shows confusion matrices and accuracy comparisons."
      ],
      "metadata": {
        "id": "y-7kMfltlPFp"
      }
    },
    {
      "cell_type": "code",
      "source": [
        "# Confusion Matrix Visualization\n",
        "plt.figure(figsize=(6,4))\n",
        "cm = confusion_matrix(y_test, y_pred_lr)\n",
        "sns.heatmap(cm, annot=True, fmt='d', cmap='Blues')\n",
        "plt.title(\"Logistic Regression - Confusion Matrix\")\n",
        "plt.xlabel(\"Predicted\")\n",
        "plt.ylabel(\"Actual\")\n",
        "plt.show()\n",
        "\n",
        "# Compare model performance\n",
        "models = ['Logistic Regression', 'Random Forest']\n",
        "train_scores = [lr_train_acc, rf_train_acc]\n",
        "test_scores = [lr_test_acc, rf_test_acc]\n",
        "\n",
        "plt.figure(figsize=(6,4))\n",
        "plt.bar(models, test_scores, color=['skyblue', 'lightgreen'])\n",
        "plt.title('Model Test Accuracy Comparison')\n",
        "plt.ylabel('Accuracy')\n",
        "plt.show()\n"
      ],
      "metadata": {
        "colab": {
          "base_uri": "https://localhost:8080/",
          "height": 784
        },
        "id": "_rwyMmBElO5S",
        "outputId": "a8960ef4-eaad-46fe-8c92-67791412d30b"
      },
      "execution_count": 4,
      "outputs": [
        {
          "output_type": "display_data",
          "data": {
            "text/plain": [
              "<Figure size 600x400 with 2 Axes>"
            ],
            "image/png": "[encoded data removed]"
          },
          "metadata": {}
        },
        {
          "output_type": "display_data",
          "data": {
            "text/plain": [
              "<Figure size 600x400 with 1 Axes>"
            ],
            "image/png": "[encoded data removed]"
          },
          "metadata": {}
        }
      ]
    },
    {
      "cell_type": "markdown",
      "source": [
        "# 🏁 Final Summary / Insights\n",
        "\n",
        "> Both Logistic Regression and Random Forest successfully modeled churn prediction.\n",
        "\n",
        "- Random Forest achieved higher accuracy on both training and testing sets, suggesting stronger predictive capability but possible overfitting.\n",
        "\n",
        "- Logistic Regression provided more interpretable results, making it suitable for understanding key churn factors.\n",
        "\n",
        "> Hyperparameter tuning improved both models, confirming the importance of parameter optimization.\n",
        "\n",
        "> The approach effectively demonstrates the use of machine learning pipelines for structured tabular classification problems.\n",
        "\n",
        "## Key Takeaways:\n",
        "\n",
        "- Preprocessing pipelines simplify and standardize feature engineering.\n",
        "\n",
        "- Ensemble models like Random Forest handle mixed data types well.\n",
        "\n",
        "- Future work: explore feature selection, SMOTE for imbalance, or boosting models (e.g., XGBoost)."
      ],
      "metadata": {
        "id": "j1VvgHvxlOjg"
      }
    }
  ]
}